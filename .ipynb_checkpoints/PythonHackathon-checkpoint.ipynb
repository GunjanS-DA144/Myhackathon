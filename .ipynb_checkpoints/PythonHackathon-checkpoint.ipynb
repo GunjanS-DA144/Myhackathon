{
 "cells": [
  {
   "cell_type": "code",
   "execution_count": 3,
   "id": "a904d6b3-f0f2-4ca4-8a10-5510e0402e99",
   "metadata": {},
   "outputs": [
    {
     "name": "stdout",
     "output_type": "stream",
     "text": [
      "Name: Mihira Saini \n",
      "Batch: DA144\n"
     ]
    }
   ],
   "source": [
    "name = \"Mihira Saini\"\n",
    "batch = \"DA144\"\n",
    "print(f\"Name: {name} \\nBatch: {batch}\")"
   ]
  },
  {
   "cell_type": "code",
   "execution_count": 4,
   "id": "481626bd-0498-452a-9c78-9d46e613185e",
   "metadata": {},
   "outputs": [
    {
     "name": "stdout",
     "output_type": "stream",
     "text": [
      "iniaS arihiM\n"
     ]
    }
   ],
   "source": [
    "name = \"Mihira Saini\"\n",
    "print(name[::-1])     "
   ]
  },
  {
   "cell_type": "code",
   "execution_count": 15,
   "id": "d794b7c4-d97e-461d-b319-5237317620c6",
   "metadata": {},
   "outputs": [
    {
     "name": "stdout",
     "output_type": "stream",
     "text": [
      "EARTH\n"
     ]
    }
   ],
   "source": [
    "input = \"earth\"\n",
    "print(input.upper())"
   ]
  },
  {
   "cell_type": "code",
   "execution_count": 25,
   "id": "b08baa55-ff14-4af3-9bfb-f094d9b562ec",
   "metadata": {},
   "outputs": [
    {
     "data": {
      "text/plain": [
       "dict_keys(['Name', 'Age', 'Title', 'Remote'])"
      ]
     },
     "execution_count": 25,
     "metadata": {},
     "output_type": "execute_result"
    }
   ],
   "source": [
    "emp_info ={\n",
    "    \"Name\": \"Nancy Fox\",\n",
    "    \"Age\": 47,\n",
    "    \"Title\": \"PM\",\n",
    "    \"Remote\": True\n",
    "}\n",
    "emp_info.keys()"
   ]
  },
  {
   "cell_type": "code",
   "execution_count": 23,
   "id": "bc0242ef-8a91-467d-9479-4145ed081fbb",
   "metadata": {},
   "outputs": [
    {
     "data": {
      "text/plain": [
       "dict_values(['Nancy Fox', 47, 'PM', True])"
      ]
     },
     "execution_count": 23,
     "metadata": {},
     "output_type": "execute_result"
    }
   ],
   "source": [
    "emp_info.values()"
   ]
  },
  {
   "cell_type": "code",
   "execution_count": 5,
   "id": "4e0ecf1f-69fa-4dd2-8d9d-7fe61aabea59",
   "metadata": {},
   "outputs": [
    {
     "name": "stdout",
     "output_type": "stream",
     "text": [
      "The End\n"
     ]
    }
   ],
   "source": [
    "print(\"The End\")"
   ]
  },
  {
   "cell_type": "code",
   "execution_count": null,
   "id": "5153b56a-00ba-4d63-95e9-9cb3a0dcfe71",
   "metadata": {},
   "outputs": [],
   "source": []
  }
 ],
 "metadata": {
  "kernelspec": {
   "display_name": "Python 3 (ipykernel)",
   "language": "python",
   "name": "python3"
  },
  "language_info": {
   "codemirror_mode": {
    "name": "ipython",
    "version": 3
   },
   "file_extension": ".py",
   "mimetype": "text/x-python",
   "name": "python",
   "nbconvert_exporter": "python",
   "pygments_lexer": "ipython3",
   "version": "3.12.7"
  }
 },
 "nbformat": 4,
 "nbformat_minor": 5
}
